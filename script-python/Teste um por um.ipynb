{
 "cells": [
  {
   "cell_type": "code",
   "execution_count": null,
   "id": "94ea3ee7-d052-4833-94e1-7f04705402d8",
   "metadata": {},
   "outputs": [
    {
     "name": "stdout",
     "output_type": "stream",
     "text": [
      "01234567\n"
     ]
    },
    {
     "name": "stdin",
     "output_type": "stream",
     "text": [
      "Digite 'd' para deletar o primeiro item da lista:  d\n"
     ]
    },
    {
     "name": "stdout",
     "output_type": "stream",
     "text": [
      "01234576\n"
     ]
    },
    {
     "name": "stdin",
     "output_type": "stream",
     "text": [
      "Digite 'd' para deletar o primeiro item da lista:  d\n"
     ]
    },
    {
     "name": "stdout",
     "output_type": "stream",
     "text": [
      "01234657\n"
     ]
    },
    {
     "name": "stdin",
     "output_type": "stream",
     "text": [
      "Digite 'd' para deletar o primeiro item da lista:  d\n"
     ]
    },
    {
     "name": "stdout",
     "output_type": "stream",
     "text": [
      "01234675\n"
     ]
    }
   ],
   "source": [
    "import itertools\n",
    "\n",
    "digitos = list(range(8))\n",
    "permutacoes = list(itertools.permutations(digitos, 8))\n",
    "\n",
    "def deletar_primeiro_item(lista):\n",
    "    del lista[0]\n",
    "\n",
    "indice_senha = 0\n",
    "while indice_senha < len(permutacoes):\n",
    "    senha = permutacoes[indice_senha]\n",
    "    print(''.join(map(str, senha)))\n",
    "    entrada = input(\"Digite 'd' para deletar o primeiro item da lista: \")\n",
    "    if entrada.lower() == 'd':\n",
    "        deletar_primeiro_item(permutacoes)\n",
    "    else:\n",
    "        indice_senha += 1\n"
   ]
  },
  {
   "cell_type": "code",
   "execution_count": null,
   "id": "3fddec4f-5a49-4d1e-838a-268f6dde860e",
   "metadata": {},
   "outputs": [],
   "source": []
  }
 ],
 "metadata": {
  "kernelspec": {
   "display_name": "Python 3 (ipykernel)",
   "language": "python",
   "name": "python3"
  },
  "language_info": {
   "codemirror_mode": {
    "name": "ipython",
    "version": 3
   },
   "file_extension": ".py",
   "mimetype": "text/x-python",
   "name": "python",
   "nbconvert_exporter": "python",
   "pygments_lexer": "ipython3",
   "version": "3.12.3"
  }
 },
 "nbformat": 4,
 "nbformat_minor": 5
}
